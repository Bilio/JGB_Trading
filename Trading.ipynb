{
 "cells": [
  {
   "cell_type": "markdown",
   "metadata": {},
   "source": [
    "# Deep Neural NetworkによるJGB利回り変化の予測  \n",
    "Deep Neural Network(DNN)を使い、10日後のJGB利回りの変化を予測する。  \n",
    "入力値として直近50日間のJGB利回りの推移と季節性のフラグを用いる。  \n",
    "元データは財務省HPで公開されているものを使用。  \n",
    "http://www.mof.go.jp/jgbs/reference/interest_rate/index.htm  \n",
    "\n",
    "JGB利回りのデータの取得にあたって以下のモジュールを使用。  \n",
    "https://github.com/MitsuruFujiwara/JGBScraping"
   ]
  },
  {
   "cell_type": "markdown",
   "metadata": {},
   "source": [
    "#### 事前準備  \n",
    "必要なパッケージのロード"
   ]
  },
  {
   "cell_type": "code",
   "execution_count": 1,
   "metadata": {
    "collapsed": false
   },
   "outputs": [
    {
     "name": "stderr",
     "output_type": "stream",
     "text": [
      "Using TensorFlow backend.\n",
      "/home/fujiwara/.pyenv/versions/anaconda3-4.2.0/lib/python3.5/site-packages/sklearn/cross_validation.py:44: DeprecationWarning: This module was deprecated in version 0.18 in favor of the model_selection module into which all the refactored classes and functions are moved. Also note that the interface of the new CV iterators are different from that of this module. This module will be removed in 0.20.\n",
      "  \"This module will be removed in 0.20.\", DeprecationWarning)\n"
     ]
    }
   ],
   "source": [
    "import pandas as pd\n",
    "import numpy as np\n",
    "import matplotlib\n",
    "import matplotlib.pyplot as plt\n",
    "import seaborn as sns\n",
    "\n",
    "from sklearn.externals import joblib\n",
    "from keras.models import load_model\n",
    "from xgboost import XGBClassifier, XGBRegressor, plot_importance\n",
    "\n",
    "from JGBScraping import JGBScraping\n",
    "\n",
    "%matplotlib inline"
   ]
  },
  {
   "cell_type": "markdown",
   "metadata": {},
   "source": [
    "必要な関数の定義"
   ]
  },
  {
   "cell_type": "code",
   "execution_count": 2,
   "metadata": {
    "collapsed": false
   },
   "outputs": [],
   "source": [
    "# シフトさせたデータ取得用\n",
    "def getShifted(df, numLag):\n",
    "    res = {}\n",
    "    col = []\n",
    "    for t in range(1, numLag+1):\n",
    "        label = 't_' + str(t)\n",
    "        col.append(label)\n",
    "        res[label] = df.shift(t)\n",
    "    return pd.DataFrame(res, index=df.index, columns=col)"
   ]
  },
  {
   "cell_type": "markdown",
   "metadata": {},
   "source": [
    "JGBのヒストリカルデータを取得"
   ]
  },
  {
   "cell_type": "code",
   "execution_count": 3,
   "metadata": {
    "collapsed": false
   },
   "outputs": [
    {
     "data": {
      "text/html": [
       "<div>\n",
       "<table border=\"1\" class=\"dataframe\">\n",
       "  <thead>\n",
       "    <tr style=\"text-align: right;\">\n",
       "      <th></th>\n",
       "      <th>JGB_1Y</th>\n",
       "      <th>JGB_2Y</th>\n",
       "      <th>JGB_3Y</th>\n",
       "      <th>JGB_4Y</th>\n",
       "      <th>JGB_5Y</th>\n",
       "      <th>JGB_6Y</th>\n",
       "      <th>JGB_7Y</th>\n",
       "      <th>JGB_8Y</th>\n",
       "      <th>JGB_9Y</th>\n",
       "      <th>JGB_10Y</th>\n",
       "      <th>JGB_15Y</th>\n",
       "      <th>JGB_20Y</th>\n",
       "      <th>JGB_25Y</th>\n",
       "      <th>JGB_30Y</th>\n",
       "      <th>JGB_40Y</th>\n",
       "    </tr>\n",
       "  </thead>\n",
       "  <tbody>\n",
       "    <tr>\n",
       "      <th>1974-09-24</th>\n",
       "      <td>10.327</td>\n",
       "      <td>9.362</td>\n",
       "      <td>8.830</td>\n",
       "      <td>8.515</td>\n",
       "      <td>8.348</td>\n",
       "      <td>8.290</td>\n",
       "      <td>8.24</td>\n",
       "      <td>8.121</td>\n",
       "      <td>8.127</td>\n",
       "      <td>NaN</td>\n",
       "      <td>NaN</td>\n",
       "      <td>NaN</td>\n",
       "      <td>NaN</td>\n",
       "      <td>NaN</td>\n",
       "      <td>NaN</td>\n",
       "    </tr>\n",
       "    <tr>\n",
       "      <th>1974-09-25</th>\n",
       "      <td>10.333</td>\n",
       "      <td>9.364</td>\n",
       "      <td>8.831</td>\n",
       "      <td>8.516</td>\n",
       "      <td>8.348</td>\n",
       "      <td>8.290</td>\n",
       "      <td>8.24</td>\n",
       "      <td>8.121</td>\n",
       "      <td>8.127</td>\n",
       "      <td>NaN</td>\n",
       "      <td>NaN</td>\n",
       "      <td>NaN</td>\n",
       "      <td>NaN</td>\n",
       "      <td>NaN</td>\n",
       "      <td>NaN</td>\n",
       "    </tr>\n",
       "    <tr>\n",
       "      <th>1974-09-26</th>\n",
       "      <td>10.340</td>\n",
       "      <td>9.366</td>\n",
       "      <td>8.832</td>\n",
       "      <td>8.516</td>\n",
       "      <td>8.348</td>\n",
       "      <td>8.290</td>\n",
       "      <td>8.24</td>\n",
       "      <td>8.122</td>\n",
       "      <td>8.128</td>\n",
       "      <td>NaN</td>\n",
       "      <td>NaN</td>\n",
       "      <td>NaN</td>\n",
       "      <td>NaN</td>\n",
       "      <td>NaN</td>\n",
       "      <td>NaN</td>\n",
       "    </tr>\n",
       "    <tr>\n",
       "      <th>1974-09-27</th>\n",
       "      <td>10.347</td>\n",
       "      <td>9.367</td>\n",
       "      <td>8.833</td>\n",
       "      <td>8.517</td>\n",
       "      <td>8.349</td>\n",
       "      <td>8.290</td>\n",
       "      <td>8.24</td>\n",
       "      <td>8.122</td>\n",
       "      <td>8.128</td>\n",
       "      <td>NaN</td>\n",
       "      <td>NaN</td>\n",
       "      <td>NaN</td>\n",
       "      <td>NaN</td>\n",
       "      <td>NaN</td>\n",
       "      <td>NaN</td>\n",
       "    </tr>\n",
       "    <tr>\n",
       "      <th>1974-09-28</th>\n",
       "      <td>10.354</td>\n",
       "      <td>9.369</td>\n",
       "      <td>8.834</td>\n",
       "      <td>8.518</td>\n",
       "      <td>8.349</td>\n",
       "      <td>8.291</td>\n",
       "      <td>8.24</td>\n",
       "      <td>8.122</td>\n",
       "      <td>8.129</td>\n",
       "      <td>NaN</td>\n",
       "      <td>NaN</td>\n",
       "      <td>NaN</td>\n",
       "      <td>NaN</td>\n",
       "      <td>NaN</td>\n",
       "      <td>NaN</td>\n",
       "    </tr>\n",
       "  </tbody>\n",
       "</table>\n",
       "</div>"
      ],
      "text/plain": [
       "            JGB_1Y  JGB_2Y  JGB_3Y  JGB_4Y  JGB_5Y  JGB_6Y  JGB_7Y  JGB_8Y  \\\n",
       "1974-09-24  10.327   9.362   8.830   8.515   8.348   8.290    8.24   8.121   \n",
       "1974-09-25  10.333   9.364   8.831   8.516   8.348   8.290    8.24   8.121   \n",
       "1974-09-26  10.340   9.366   8.832   8.516   8.348   8.290    8.24   8.122   \n",
       "1974-09-27  10.347   9.367   8.833   8.517   8.349   8.290    8.24   8.122   \n",
       "1974-09-28  10.354   9.369   8.834   8.518   8.349   8.291    8.24   8.122   \n",
       "\n",
       "            JGB_9Y  JGB_10Y  JGB_15Y  JGB_20Y  JGB_25Y  JGB_30Y  JGB_40Y  \n",
       "1974-09-24   8.127      NaN      NaN      NaN      NaN      NaN      NaN  \n",
       "1974-09-25   8.127      NaN      NaN      NaN      NaN      NaN      NaN  \n",
       "1974-09-26   8.128      NaN      NaN      NaN      NaN      NaN      NaN  \n",
       "1974-09-27   8.128      NaN      NaN      NaN      NaN      NaN      NaN  \n",
       "1974-09-28   8.129      NaN      NaN      NaN      NaN      NaN      NaN  "
      ]
     },
     "execution_count": 3,
     "metadata": {},
     "output_type": "execute_result"
    }
   ],
   "source": [
    "jgbscraping = JGBScraping()\n",
    "jgb = jgbscraping.getAllData()\n",
    "jgb.head()"
   ]
  },
  {
   "cell_type": "code",
   "execution_count": 4,
   "metadata": {
    "collapsed": false
   },
   "outputs": [
    {
     "data": {
      "text/plain": [
       "(11229, 15)"
      ]
     },
     "execution_count": 4,
     "metadata": {},
     "output_type": "execute_result"
    }
   ],
   "source": [
    "jgb.shape"
   ]
  },
  {
   "cell_type": "code",
   "execution_count": 5,
   "metadata": {
    "collapsed": false
   },
   "outputs": [
    {
     "data": {
      "text/plain": [
       "JGB_1Y     float64\n",
       "JGB_2Y     float64\n",
       "JGB_3Y     float64\n",
       "JGB_4Y     float64\n",
       "JGB_5Y     float64\n",
       "JGB_6Y     float64\n",
       "JGB_7Y     float64\n",
       "JGB_8Y     float64\n",
       "JGB_9Y     float64\n",
       "JGB_10Y    float64\n",
       "JGB_15Y    float64\n",
       "JGB_20Y    float64\n",
       "JGB_25Y    float64\n",
       "JGB_30Y    float64\n",
       "JGB_40Y    float64\n",
       "dtype: object"
      ]
     },
     "execution_count": 5,
     "metadata": {},
     "output_type": "execute_result"
    }
   ],
   "source": [
    "jgb.dtypes"
   ]
  },
  {
   "cell_type": "markdown",
   "metadata": {},
   "source": [
    "季節性のフラグを生成"
   ]
  },
  {
   "cell_type": "code",
   "execution_count": 6,
   "metadata": {
    "collapsed": false
   },
   "outputs": [
    {
     "data": {
      "text/html": [
       "<div>\n",
       "<table border=\"1\" class=\"dataframe\">\n",
       "  <thead>\n",
       "    <tr style=\"text-align: right;\">\n",
       "      <th></th>\n",
       "      <th>day__2</th>\n",
       "      <th>day__3</th>\n",
       "      <th>day__4</th>\n",
       "      <th>day__5</th>\n",
       "      <th>day__6</th>\n",
       "      <th>day__7</th>\n",
       "      <th>day__8</th>\n",
       "      <th>day__9</th>\n",
       "      <th>day__10</th>\n",
       "      <th>day__11</th>\n",
       "      <th>...</th>\n",
       "      <th>weekofyear__44</th>\n",
       "      <th>weekofyear__45</th>\n",
       "      <th>weekofyear__46</th>\n",
       "      <th>weekofyear__47</th>\n",
       "      <th>weekofyear__48</th>\n",
       "      <th>weekofyear__49</th>\n",
       "      <th>weekofyear__50</th>\n",
       "      <th>weekofyear__51</th>\n",
       "      <th>weekofyear__52</th>\n",
       "      <th>weekofyear__53</th>\n",
       "    </tr>\n",
       "  </thead>\n",
       "  <tbody>\n",
       "    <tr>\n",
       "      <th>1974-09-24</th>\n",
       "      <td>0</td>\n",
       "      <td>0</td>\n",
       "      <td>0</td>\n",
       "      <td>0</td>\n",
       "      <td>0</td>\n",
       "      <td>0</td>\n",
       "      <td>0</td>\n",
       "      <td>0</td>\n",
       "      <td>0</td>\n",
       "      <td>0</td>\n",
       "      <td>...</td>\n",
       "      <td>0</td>\n",
       "      <td>0</td>\n",
       "      <td>0</td>\n",
       "      <td>0</td>\n",
       "      <td>0</td>\n",
       "      <td>0</td>\n",
       "      <td>0</td>\n",
       "      <td>0</td>\n",
       "      <td>0</td>\n",
       "      <td>0</td>\n",
       "    </tr>\n",
       "    <tr>\n",
       "      <th>1974-09-25</th>\n",
       "      <td>0</td>\n",
       "      <td>0</td>\n",
       "      <td>0</td>\n",
       "      <td>0</td>\n",
       "      <td>0</td>\n",
       "      <td>0</td>\n",
       "      <td>0</td>\n",
       "      <td>0</td>\n",
       "      <td>0</td>\n",
       "      <td>0</td>\n",
       "      <td>...</td>\n",
       "      <td>0</td>\n",
       "      <td>0</td>\n",
       "      <td>0</td>\n",
       "      <td>0</td>\n",
       "      <td>0</td>\n",
       "      <td>0</td>\n",
       "      <td>0</td>\n",
       "      <td>0</td>\n",
       "      <td>0</td>\n",
       "      <td>0</td>\n",
       "    </tr>\n",
       "    <tr>\n",
       "      <th>1974-09-26</th>\n",
       "      <td>0</td>\n",
       "      <td>0</td>\n",
       "      <td>0</td>\n",
       "      <td>0</td>\n",
       "      <td>0</td>\n",
       "      <td>0</td>\n",
       "      <td>0</td>\n",
       "      <td>0</td>\n",
       "      <td>0</td>\n",
       "      <td>0</td>\n",
       "      <td>...</td>\n",
       "      <td>0</td>\n",
       "      <td>0</td>\n",
       "      <td>0</td>\n",
       "      <td>0</td>\n",
       "      <td>0</td>\n",
       "      <td>0</td>\n",
       "      <td>0</td>\n",
       "      <td>0</td>\n",
       "      <td>0</td>\n",
       "      <td>0</td>\n",
       "    </tr>\n",
       "    <tr>\n",
       "      <th>1974-09-27</th>\n",
       "      <td>0</td>\n",
       "      <td>0</td>\n",
       "      <td>0</td>\n",
       "      <td>0</td>\n",
       "      <td>0</td>\n",
       "      <td>0</td>\n",
       "      <td>0</td>\n",
       "      <td>0</td>\n",
       "      <td>0</td>\n",
       "      <td>0</td>\n",
       "      <td>...</td>\n",
       "      <td>0</td>\n",
       "      <td>0</td>\n",
       "      <td>0</td>\n",
       "      <td>0</td>\n",
       "      <td>0</td>\n",
       "      <td>0</td>\n",
       "      <td>0</td>\n",
       "      <td>0</td>\n",
       "      <td>0</td>\n",
       "      <td>0</td>\n",
       "    </tr>\n",
       "    <tr>\n",
       "      <th>1974-09-28</th>\n",
       "      <td>0</td>\n",
       "      <td>0</td>\n",
       "      <td>0</td>\n",
       "      <td>0</td>\n",
       "      <td>0</td>\n",
       "      <td>0</td>\n",
       "      <td>0</td>\n",
       "      <td>0</td>\n",
       "      <td>0</td>\n",
       "      <td>0</td>\n",
       "      <td>...</td>\n",
       "      <td>0</td>\n",
       "      <td>0</td>\n",
       "      <td>0</td>\n",
       "      <td>0</td>\n",
       "      <td>0</td>\n",
       "      <td>0</td>\n",
       "      <td>0</td>\n",
       "      <td>0</td>\n",
       "      <td>0</td>\n",
       "      <td>0</td>\n",
       "    </tr>\n",
       "  </tbody>\n",
       "</table>\n",
       "<p>5 rows × 98 columns</p>\n",
       "</div>"
      ],
      "text/plain": [
       "            day__2  day__3  day__4  day__5  day__6  day__7  day__8  day__9  \\\n",
       "1974-09-24       0       0       0       0       0       0       0       0   \n",
       "1974-09-25       0       0       0       0       0       0       0       0   \n",
       "1974-09-26       0       0       0       0       0       0       0       0   \n",
       "1974-09-27       0       0       0       0       0       0       0       0   \n",
       "1974-09-28       0       0       0       0       0       0       0       0   \n",
       "\n",
       "            day__10  day__11       ...        weekofyear__44  weekofyear__45  \\\n",
       "1974-09-24        0        0       ...                     0               0   \n",
       "1974-09-25        0        0       ...                     0               0   \n",
       "1974-09-26        0        0       ...                     0               0   \n",
       "1974-09-27        0        0       ...                     0               0   \n",
       "1974-09-28        0        0       ...                     0               0   \n",
       "\n",
       "            weekofyear__46  weekofyear__47  weekofyear__48  weekofyear__49  \\\n",
       "1974-09-24               0               0               0               0   \n",
       "1974-09-25               0               0               0               0   \n",
       "1974-09-26               0               0               0               0   \n",
       "1974-09-27               0               0               0               0   \n",
       "1974-09-28               0               0               0               0   \n",
       "\n",
       "            weekofyear__50  weekofyear__51  weekofyear__52  weekofyear__53  \n",
       "1974-09-24               0               0               0               0  \n",
       "1974-09-25               0               0               0               0  \n",
       "1974-09-26               0               0               0               0  \n",
       "1974-09-27               0               0               0               0  \n",
       "1974-09-28               0               0               0               0  \n",
       "\n",
       "[5 rows x 98 columns]"
      ]
     },
     "execution_count": 6,
     "metadata": {},
     "output_type": "execute_result"
    }
   ],
   "source": [
    "_day = pd.get_dummies(jgb.index.day, drop_first=True, prefix='day_').astype(int) #日付\n",
    "_month = pd.get_dummies(jgb.index.month, drop_first=True, prefix='month_').astype(int) #月\n",
    "_weekday = pd.get_dummies(jgb.index.weekday, drop_first=True, prefix='weekday_').astype(int) #曜日\n",
    "_weekofyear = pd.get_dummies(jgb.index.weekofyear, drop_first=True, prefix='weekofyear_').astype(int) #年の何週目か\n",
    "season = pd.concat([_day, _month, _weekday, _weekofyear],axis=1)\n",
    "season.index = jgb.index\n",
    "season.head()"
   ]
  },
  {
   "cell_type": "markdown",
   "metadata": {},
   "source": [
    "#### 基礎分析  \n",
    "10Y利回りの推移"
   ]
  },
  {
   "cell_type": "code",
   "execution_count": 7,
   "metadata": {
    "collapsed": false
   },
   "outputs": [
    {
     "data": {
      "text/plain": [
       "<matplotlib.axes._subplots.AxesSubplot at 0x7fee7a3cec50>"
      ]
     },
     "execution_count": 7,
     "metadata": {},
     "output_type": "execute_result"
    },
    {
     "data": {
      "image/png": "[encoded data removed]",
      "text/plain": [
       "<matplotlib.figure.Figure at 0x7fee7a3cbcf8>"
      ]
     },
     "metadata": {},
     "output_type": "display_data"
    }
   ],
   "source": [
    "jgb.JGB_10Y.plot.line()"
   ]
  },
  {
   "cell_type": "markdown",
   "metadata": {},
   "source": [
    "10日間の変化幅の分布"
   ]
  },
  {
   "cell_type": "code",
   "execution_count": 8,
   "metadata": {
    "collapsed": false
   },
   "outputs": [
    {
     "data": {
      "text/plain": [
       "<matplotlib.axes._subplots.AxesSubplot at 0x7feec873b7f0>"
      ]
     },
     "execution_count": 8,
     "metadata": {},
     "output_type": "execute_result"
    },
    {
     "data": {
      "image/png": "[encoded data removed]",
      "text/plain": [
       "<matplotlib.figure.Figure at 0x7feec873ac18>"
      ]
     },
     "metadata": {},
     "output_type": "display_data"
    }
   ],
   "source": [
    "jgb.JGB_10Y.diff(-10).hist(bins=50)"
   ]
  },
  {
   "cell_type": "markdown",
   "metadata": {},
   "source": [
    "10日間の変化幅の推移"
   ]
  },
  {
   "cell_type": "code",
   "execution_count": 9,
   "metadata": {
    "collapsed": false
   },
   "outputs": [
    {
     "data": {
      "text/plain": [
       "<matplotlib.axes._subplots.AxesSubplot at 0x7feec8605ac8>"
      ]
     },
     "execution_count": 9,
     "metadata": {},
     "output_type": "execute_result"
    },
    {
     "data": {
      "image/png": "[encoded data removed]",
      "text/plain": [
       "<matplotlib.figure.Figure at 0x7fee7b1e5550>"
      ]
     },
     "metadata": {},
     "output_type": "display_data"
    }
   ],
   "source": [
    "jgb.JGB_10Y.diff(-10).plot.line()"
   ]
  },
  {
   "cell_type": "markdown",
   "metadata": {},
   "source": [
    "#### データ加工\n",
    "クラス分類問題用のデータセットを生成"
   ]
  },
  {
   "cell_type": "code",
   "execution_count": 10,
   "metadata": {
    "collapsed": false
   },
   "outputs": [
    {
     "data": {
      "text/html": [
       "<div>\n",
       "<table border=\"1\" class=\"dataframe\">\n",
       "  <thead>\n",
       "    <tr style=\"text-align: right;\">\n",
       "      <th></th>\n",
       "      <th>t_1</th>\n",
       "      <th>t_2</th>\n",
       "      <th>t_3</th>\n",
       "      <th>t_4</th>\n",
       "      <th>t_5</th>\n",
       "      <th>t_6</th>\n",
       "      <th>t_7</th>\n",
       "      <th>t_8</th>\n",
       "      <th>t_9</th>\n",
       "      <th>t_10</th>\n",
       "      <th>...</th>\n",
       "      <th>weekofyear__45</th>\n",
       "      <th>weekofyear__46</th>\n",
       "      <th>weekofyear__47</th>\n",
       "      <th>weekofyear__48</th>\n",
       "      <th>weekofyear__49</th>\n",
       "      <th>weekofyear__50</th>\n",
       "      <th>weekofyear__51</th>\n",
       "      <th>weekofyear__52</th>\n",
       "      <th>weekofyear__53</th>\n",
       "      <th>label</th>\n",
       "    </tr>\n",
       "  </thead>\n",
       "  <tbody>\n",
       "    <tr>\n",
       "      <th>1986-09-06</th>\n",
       "      <td>0.000</td>\n",
       "      <td>-0.017</td>\n",
       "      <td>0.076</td>\n",
       "      <td>0.015</td>\n",
       "      <td>0.114</td>\n",
       "      <td>-0.003</td>\n",
       "      <td>0.000</td>\n",
       "      <td>0.016</td>\n",
       "      <td>0.013</td>\n",
       "      <td>0.000</td>\n",
       "      <td>...</td>\n",
       "      <td>0</td>\n",
       "      <td>0</td>\n",
       "      <td>0</td>\n",
       "      <td>0</td>\n",
       "      <td>0</td>\n",
       "      <td>0</td>\n",
       "      <td>0</td>\n",
       "      <td>0</td>\n",
       "      <td>0</td>\n",
       "      <td>0</td>\n",
       "    </tr>\n",
       "    <tr>\n",
       "      <th>1986-09-08</th>\n",
       "      <td>0.115</td>\n",
       "      <td>0.000</td>\n",
       "      <td>-0.017</td>\n",
       "      <td>0.076</td>\n",
       "      <td>0.015</td>\n",
       "      <td>0.114</td>\n",
       "      <td>-0.003</td>\n",
       "      <td>0.000</td>\n",
       "      <td>0.016</td>\n",
       "      <td>0.013</td>\n",
       "      <td>...</td>\n",
       "      <td>0</td>\n",
       "      <td>0</td>\n",
       "      <td>0</td>\n",
       "      <td>0</td>\n",
       "      <td>0</td>\n",
       "      <td>0</td>\n",
       "      <td>0</td>\n",
       "      <td>0</td>\n",
       "      <td>0</td>\n",
       "      <td>0</td>\n",
       "    </tr>\n",
       "    <tr>\n",
       "      <th>1986-09-09</th>\n",
       "      <td>-0.027</td>\n",
       "      <td>0.115</td>\n",
       "      <td>0.000</td>\n",
       "      <td>-0.017</td>\n",
       "      <td>0.076</td>\n",
       "      <td>0.015</td>\n",
       "      <td>0.114</td>\n",
       "      <td>-0.003</td>\n",
       "      <td>0.000</td>\n",
       "      <td>0.016</td>\n",
       "      <td>...</td>\n",
       "      <td>0</td>\n",
       "      <td>0</td>\n",
       "      <td>0</td>\n",
       "      <td>0</td>\n",
       "      <td>0</td>\n",
       "      <td>0</td>\n",
       "      <td>0</td>\n",
       "      <td>0</td>\n",
       "      <td>0</td>\n",
       "      <td>0</td>\n",
       "    </tr>\n",
       "    <tr>\n",
       "      <th>1986-09-10</th>\n",
       "      <td>-0.002</td>\n",
       "      <td>-0.027</td>\n",
       "      <td>0.115</td>\n",
       "      <td>0.000</td>\n",
       "      <td>-0.017</td>\n",
       "      <td>0.076</td>\n",
       "      <td>0.015</td>\n",
       "      <td>0.114</td>\n",
       "      <td>-0.003</td>\n",
       "      <td>0.000</td>\n",
       "      <td>...</td>\n",
       "      <td>0</td>\n",
       "      <td>0</td>\n",
       "      <td>0</td>\n",
       "      <td>0</td>\n",
       "      <td>0</td>\n",
       "      <td>0</td>\n",
       "      <td>0</td>\n",
       "      <td>0</td>\n",
       "      <td>0</td>\n",
       "      <td>0</td>\n",
       "    </tr>\n",
       "    <tr>\n",
       "      <th>1986-09-11</th>\n",
       "      <td>0.000</td>\n",
       "      <td>-0.002</td>\n",
       "      <td>-0.027</td>\n",
       "      <td>0.115</td>\n",
       "      <td>0.000</td>\n",
       "      <td>-0.017</td>\n",
       "      <td>0.076</td>\n",
       "      <td>0.015</td>\n",
       "      <td>0.114</td>\n",
       "      <td>-0.003</td>\n",
       "      <td>...</td>\n",
       "      <td>0</td>\n",
       "      <td>0</td>\n",
       "      <td>0</td>\n",
       "      <td>0</td>\n",
       "      <td>0</td>\n",
       "      <td>0</td>\n",
       "      <td>0</td>\n",
       "      <td>0</td>\n",
       "      <td>0</td>\n",
       "      <td>0</td>\n",
       "    </tr>\n",
       "  </tbody>\n",
       "</table>\n",
       "<p>5 rows × 149 columns</p>\n",
       "</div>"
      ],
      "text/plain": [
       "              t_1    t_2    t_3    t_4    t_5    t_6    t_7    t_8    t_9  \\\n",
       "1986-09-06  0.000 -0.017  0.076  0.015  0.114 -0.003  0.000  0.016  0.013   \n",
       "1986-09-08  0.115  0.000 -0.017  0.076  0.015  0.114 -0.003  0.000  0.016   \n",
       "1986-09-09 -0.027  0.115  0.000 -0.017  0.076  0.015  0.114 -0.003  0.000   \n",
       "1986-09-10 -0.002 -0.027  0.115  0.000 -0.017  0.076  0.015  0.114 -0.003   \n",
       "1986-09-11  0.000 -0.002 -0.027  0.115  0.000 -0.017  0.076  0.015  0.114   \n",
       "\n",
       "             t_10  ...    weekofyear__45  weekofyear__46  weekofyear__47  \\\n",
       "1986-09-06  0.000  ...                 0               0               0   \n",
       "1986-09-08  0.013  ...                 0               0               0   \n",
       "1986-09-09  0.016  ...                 0               0               0   \n",
       "1986-09-10  0.000  ...                 0               0               0   \n",
       "1986-09-11 -0.003  ...                 0               0               0   \n",
       "\n",
       "            weekofyear__48  weekofyear__49  weekofyear__50  weekofyear__51  \\\n",
       "1986-09-06               0               0               0               0   \n",
       "1986-09-08               0               0               0               0   \n",
       "1986-09-09               0               0               0               0   \n",
       "1986-09-10               0               0               0               0   \n",
       "1986-09-11               0               0               0               0   \n",
       "\n",
       "            weekofyear__52  weekofyear__53  label  \n",
       "1986-09-06               0               0      0  \n",
       "1986-09-08               0               0      0  \n",
       "1986-09-09               0               0      0  \n",
       "1986-09-10               0               0      0  \n",
       "1986-09-11               0               0      0  \n",
       "\n",
       "[5 rows x 149 columns]"
      ]
     },
     "execution_count": 10,
     "metadata": {},
     "output_type": "execute_result"
    }
   ],
   "source": [
    "df_class = getShifted(jgb.JGB_10Y.diff(),50).dropna() # シフトさせたデータの追加\n",
    "df_class = pd.concat([df_class, season], axis=1).dropna() # 季節性フラグのデータと結合\n",
    "df_class['label'] = jgb.JGB_10Y.diff(-10).map(lambda x: 1 if x >=0 else 0) # 10日間の変化幅からラベルを生成（上昇:1, 低下:0）\n",
    "df_class.head()"
   ]
  },
  {
   "cell_type": "markdown",
   "metadata": {},
   "source": [
    "回帰問題用のデータセットを生成"
   ]
  },
  {
   "cell_type": "code",
   "execution_count": 11,
   "metadata": {
    "collapsed": false
   },
   "outputs": [
    {
     "data": {
      "text/html": [
       "<div>\n",
       "<table border=\"1\" class=\"dataframe\">\n",
       "  <thead>\n",
       "    <tr style=\"text-align: right;\">\n",
       "      <th></th>\n",
       "      <th>t_1</th>\n",
       "      <th>t_2</th>\n",
       "      <th>t_3</th>\n",
       "      <th>t_4</th>\n",
       "      <th>t_5</th>\n",
       "      <th>t_6</th>\n",
       "      <th>t_7</th>\n",
       "      <th>t_8</th>\n",
       "      <th>t_9</th>\n",
       "      <th>t_10</th>\n",
       "      <th>...</th>\n",
       "      <th>weekofyear__45</th>\n",
       "      <th>weekofyear__46</th>\n",
       "      <th>weekofyear__47</th>\n",
       "      <th>weekofyear__48</th>\n",
       "      <th>weekofyear__49</th>\n",
       "      <th>weekofyear__50</th>\n",
       "      <th>weekofyear__51</th>\n",
       "      <th>weekofyear__52</th>\n",
       "      <th>weekofyear__53</th>\n",
       "      <th>label</th>\n",
       "    </tr>\n",
       "  </thead>\n",
       "  <tbody>\n",
       "    <tr>\n",
       "      <th>1986-09-06</th>\n",
       "      <td>0.000</td>\n",
       "      <td>-0.017</td>\n",
       "      <td>0.076</td>\n",
       "      <td>0.015</td>\n",
       "      <td>0.114</td>\n",
       "      <td>-0.003</td>\n",
       "      <td>0.000</td>\n",
       "      <td>0.016</td>\n",
       "      <td>0.013</td>\n",
       "      <td>0.000</td>\n",
       "      <td>...</td>\n",
       "      <td>0</td>\n",
       "      <td>0</td>\n",
       "      <td>0</td>\n",
       "      <td>0</td>\n",
       "      <td>0</td>\n",
       "      <td>0</td>\n",
       "      <td>0</td>\n",
       "      <td>0</td>\n",
       "      <td>0</td>\n",
       "      <td>-0.132</td>\n",
       "    </tr>\n",
       "    <tr>\n",
       "      <th>1986-09-08</th>\n",
       "      <td>0.115</td>\n",
       "      <td>0.000</td>\n",
       "      <td>-0.017</td>\n",
       "      <td>0.076</td>\n",
       "      <td>0.015</td>\n",
       "      <td>0.114</td>\n",
       "      <td>-0.003</td>\n",
       "      <td>0.000</td>\n",
       "      <td>0.016</td>\n",
       "      <td>0.013</td>\n",
       "      <td>...</td>\n",
       "      <td>0</td>\n",
       "      <td>0</td>\n",
       "      <td>0</td>\n",
       "      <td>0</td>\n",
       "      <td>0</td>\n",
       "      <td>0</td>\n",
       "      <td>0</td>\n",
       "      <td>0</td>\n",
       "      <td>0</td>\n",
       "      <td>-0.142</td>\n",
       "    </tr>\n",
       "    <tr>\n",
       "      <th>1986-09-09</th>\n",
       "      <td>-0.027</td>\n",
       "      <td>0.115</td>\n",
       "      <td>0.000</td>\n",
       "      <td>-0.017</td>\n",
       "      <td>0.076</td>\n",
       "      <td>0.015</td>\n",
       "      <td>0.114</td>\n",
       "      <td>-0.003</td>\n",
       "      <td>0.000</td>\n",
       "      <td>0.016</td>\n",
       "      <td>...</td>\n",
       "      <td>0</td>\n",
       "      <td>0</td>\n",
       "      <td>0</td>\n",
       "      <td>0</td>\n",
       "      <td>0</td>\n",
       "      <td>0</td>\n",
       "      <td>0</td>\n",
       "      <td>0</td>\n",
       "      <td>0</td>\n",
       "      <td>-0.141</td>\n",
       "    </tr>\n",
       "    <tr>\n",
       "      <th>1986-09-10</th>\n",
       "      <td>-0.002</td>\n",
       "      <td>-0.027</td>\n",
       "      <td>0.115</td>\n",
       "      <td>0.000</td>\n",
       "      <td>-0.017</td>\n",
       "      <td>0.076</td>\n",
       "      <td>0.015</td>\n",
       "      <td>0.114</td>\n",
       "      <td>-0.003</td>\n",
       "      <td>0.000</td>\n",
       "      <td>...</td>\n",
       "      <td>0</td>\n",
       "      <td>0</td>\n",
       "      <td>0</td>\n",
       "      <td>0</td>\n",
       "      <td>0</td>\n",
       "      <td>0</td>\n",
       "      <td>0</td>\n",
       "      <td>0</td>\n",
       "      <td>0</td>\n",
       "      <td>-0.183</td>\n",
       "    </tr>\n",
       "    <tr>\n",
       "      <th>1986-09-11</th>\n",
       "      <td>0.000</td>\n",
       "      <td>-0.002</td>\n",
       "      <td>-0.027</td>\n",
       "      <td>0.115</td>\n",
       "      <td>0.000</td>\n",
       "      <td>-0.017</td>\n",
       "      <td>0.076</td>\n",
       "      <td>0.015</td>\n",
       "      <td>0.114</td>\n",
       "      <td>-0.003</td>\n",
       "      <td>...</td>\n",
       "      <td>0</td>\n",
       "      <td>0</td>\n",
       "      <td>0</td>\n",
       "      <td>0</td>\n",
       "      <td>0</td>\n",
       "      <td>0</td>\n",
       "      <td>0</td>\n",
       "      <td>0</td>\n",
       "      <td>0</td>\n",
       "      <td>-0.125</td>\n",
       "    </tr>\n",
       "  </tbody>\n",
       "</table>\n",
       "<p>5 rows × 149 columns</p>\n",
       "</div>"
      ],
      "text/plain": [
       "              t_1    t_2    t_3    t_4    t_5    t_6    t_7    t_8    t_9  \\\n",
       "1986-09-06  0.000 -0.017  0.076  0.015  0.114 -0.003  0.000  0.016  0.013   \n",
       "1986-09-08  0.115  0.000 -0.017  0.076  0.015  0.114 -0.003  0.000  0.016   \n",
       "1986-09-09 -0.027  0.115  0.000 -0.017  0.076  0.015  0.114 -0.003  0.000   \n",
       "1986-09-10 -0.002 -0.027  0.115  0.000 -0.017  0.076  0.015  0.114 -0.003   \n",
       "1986-09-11  0.000 -0.002 -0.027  0.115  0.000 -0.017  0.076  0.015  0.114   \n",
       "\n",
       "             t_10  ...    weekofyear__45  weekofyear__46  weekofyear__47  \\\n",
       "1986-09-06  0.000  ...                 0               0               0   \n",
       "1986-09-08  0.013  ...                 0               0               0   \n",
       "1986-09-09  0.016  ...                 0               0               0   \n",
       "1986-09-10  0.000  ...                 0               0               0   \n",
       "1986-09-11 -0.003  ...                 0               0               0   \n",
       "\n",
       "            weekofyear__48  weekofyear__49  weekofyear__50  weekofyear__51  \\\n",
       "1986-09-06               0               0               0               0   \n",
       "1986-09-08               0               0               0               0   \n",
       "1986-09-09               0               0               0               0   \n",
       "1986-09-10               0               0               0               0   \n",
       "1986-09-11               0               0               0               0   \n",
       "\n",
       "            weekofyear__52  weekofyear__53  label  \n",
       "1986-09-06               0               0 -0.132  \n",
       "1986-09-08               0               0 -0.142  \n",
       "1986-09-09               0               0 -0.141  \n",
       "1986-09-10               0               0 -0.183  \n",
       "1986-09-11               0               0 -0.125  \n",
       "\n",
       "[5 rows x 149 columns]"
      ]
     },
     "execution_count": 11,
     "metadata": {},
     "output_type": "execute_result"
    }
   ],
   "source": [
    "df_reg = getShifted(jgb.JGB_10Y.diff(),50).dropna() # シフトさせたデータの追加\n",
    "df_reg = pd.concat([df_reg, season], axis=1).dropna() # 季節性フラグのデータと結合\n",
    "df_reg['label'] = jgb.JGB_10Y.diff(-10) # 10日間の変化幅そのものをラベルに\n",
    "df_reg.head()"
   ]
  },
  {
   "cell_type": "markdown",
   "metadata": {},
   "source": [
    "訓練データ（1986/9〜2016/12）と検証データ（2017/1〜）に分割"
   ]
  },
  {
   "cell_type": "code",
   "execution_count": 12,
   "metadata": {
    "collapsed": false
   },
   "outputs": [],
   "source": [
    "df_class_train = df_class[:'2016/12/31']\n",
    "df_class_test  = df_class['2016/12/31':]\n",
    "trX_c, trY_c = np.array(df_class_train.drop('label', axis=1)), np.array(df_class_train.label)\n",
    "valX_c, valY_c = np.array(df_class_test.drop('label', axis=1)), np.array(df_class_test.label)"
   ]
  },
  {
   "cell_type": "code",
   "execution_count": 13,
   "metadata": {
    "collapsed": true
   },
   "outputs": [],
   "source": [
    "df_reg_train = df_reg[:'2016/12/31']\n",
    "df_reg_test  = df_reg['2016/12/31':]\n",
    "trX_r, trY_r = np.array(df_reg_train.drop('label', axis=1)), np.array(df_reg_train.label)\n",
    "valX_r, valY_r = np.array(df_reg_test.drop('label', axis=1)), np.array(df_reg_test.label)"
   ]
  },
  {
   "cell_type": "markdown",
   "metadata": {},
   "source": [
    "加工済みのデータを保存"
   ]
  },
  {
   "cell_type": "code",
   "execution_count": 14,
   "metadata": {
    "collapsed": true
   },
   "outputs": [],
   "source": [
    "df_class_train.to_hdf('data.h5', key='train_class')\n",
    "df_class_test.to_hdf('data.h5', key='test_class')\n",
    "df_reg_train.to_hdf('data.h5', key='train_reg')\n",
    "df_reg_test.to_hdf('data.h5', key='test_reg')"
   ]
  },
  {
   "cell_type": "markdown",
   "metadata": {},
   "source": [
    "### モデルの検証  \n",
    "以降では事前学習ありのDeep Neural Network(DNN)による予測精度を検証する。  "
   ]
  },
  {
   "cell_type": "markdown",
   "metadata": {},
   "source": [
    "#### クラス分類モデル  \n",
    "別途推定したモデルをロード"
   ]
  },
  {
   "cell_type": "code",
   "execution_count": 15,
   "metadata": {
    "collapsed": true
   },
   "outputs": [],
   "source": [
    "dnn_c=load_model('DNN_C.h5')"
   ]
  },
  {
   "cell_type": "markdown",
   "metadata": {},
   "source": [
    "モデルをコンパイル"
   ]
  },
  {
   "cell_type": "code",
   "execution_count": 16,
   "metadata": {
    "collapsed": false
   },
   "outputs": [],
   "source": [
    "dnn_c.compile(loss='binary_crossentropy', optimizer='adam', metrics=['accuracy'])"
   ]
  },
  {
   "cell_type": "markdown",
   "metadata": {},
   "source": [
    "モデルのサマリー"
   ]
  },
  {
   "cell_type": "code",
   "execution_count": 17,
   "metadata": {
    "collapsed": false
   },
   "outputs": [
    {
     "name": "stdout",
     "output_type": "stream",
     "text": [
      "____________________________________________________________________________________________________\n",
      "Layer (type)                     Output Shape          Param #     Connected to                     \n",
      "====================================================================================================\n",
      "dense_1 (Dense)                  (None, 148)           22052       dense_input_1[0][0]              \n",
      "____________________________________________________________________________________________________\n",
      "activation_1 (Activation)        (None, 148)           0           dense_1[0][0]                    \n",
      "____________________________________________________________________________________________________\n",
      "dropout_1 (Dropout)              (None, 148)           0           activation_1[0][0]               \n",
      "____________________________________________________________________________________________________\n",
      "dense_2 (Dense)                  (None, 148)           22052       dropout_1[0][0]                  \n",
      "____________________________________________________________________________________________________\n",
      "activation_2 (Activation)        (None, 148)           0           dense_2[0][0]                    \n",
      "____________________________________________________________________________________________________\n",
      "dropout_2 (Dropout)              (None, 148)           0           activation_2[0][0]               \n",
      "____________________________________________________________________________________________________\n",
      "dense_3 (Dense)                  (None, 148)           22052       dropout_2[0][0]                  \n",
      "____________________________________________________________________________________________________\n",
      "activation_3 (Activation)        (None, 148)           0           dense_3[0][0]                    \n",
      "____________________________________________________________________________________________________\n",
      "dropout_3 (Dropout)              (None, 148)           0           activation_3[0][0]               \n",
      "____________________________________________________________________________________________________\n",
      "dense_4 (Dense)                  (None, 148)           22052       dropout_3[0][0]                  \n",
      "____________________________________________________________________________________________________\n",
      "activation_4 (Activation)        (None, 148)           0           dense_4[0][0]                    \n",
      "____________________________________________________________________________________________________\n",
      "dropout_4 (Dropout)              (None, 148)           0           activation_4[0][0]               \n",
      "____________________________________________________________________________________________________\n",
      "dense_5 (Dense)                  (None, 1)             149         dropout_4[0][0]                  \n",
      "____________________________________________________________________________________________________\n",
      "activation_5 (Activation)        (None, 1)             0           dense_5[0][0]                    \n",
      "====================================================================================================\n",
      "Total params: 88,357\n",
      "Trainable params: 88,357\n",
      "Non-trainable params: 0\n",
      "____________________________________________________________________________________________________\n"
     ]
    }
   ],
   "source": [
    "dnn_c.summary()"
   ]
  },
  {
   "cell_type": "markdown",
   "metadata": {},
   "source": [
    "モデルのスコアを算出（検証データ）"
   ]
  },
  {
   "cell_type": "code",
   "execution_count": 18,
   "metadata": {
    "collapsed": false
   },
   "outputs": [
    {
     "name": "stdout",
     "output_type": "stream",
     "text": [
      "\r",
      " 32/299 [==>...........................] - ETA: 2s"
     ]
    }
   ],
   "source": [
    "score_c_test = dnn_c.evaluate(valX_c, valY_c)"
   ]
  },
  {
   "cell_type": "code",
   "execution_count": 19,
   "metadata": {
    "collapsed": false
   },
   "outputs": [
    {
     "data": {
      "text/plain": [
       "'loss: 0.7153600767304666'"
      ]
     },
     "execution_count": 19,
     "metadata": {},
     "output_type": "execute_result"
    }
   ],
   "source": [
    "'loss: ' + str(score_c_test[0])"
   ]
  },
  {
   "cell_type": "code",
   "execution_count": 20,
   "metadata": {
    "collapsed": false
   },
   "outputs": [
    {
     "data": {
      "text/plain": [
       "'Accuracy: 0.5752508357217081'"
      ]
     },
     "execution_count": 20,
     "metadata": {},
     "output_type": "execute_result"
    }
   ],
   "source": [
    "'Accuracy: ' + str(score_c_test[1])"
   ]
  },
  {
   "cell_type": "markdown",
   "metadata": {},
   "source": [
    "モデルのスコアを算出（訓練データ）"
   ]
  },
  {
   "cell_type": "code",
   "execution_count": 21,
   "metadata": {
    "collapsed": false
   },
   "outputs": [
    {
     "name": "stdout",
     "output_type": "stream",
     "text": [
      "6752/7518 [=========================>....] - ETA: 0s"
     ]
    }
   ],
   "source": [
    "score_c_train = dnn_c.evaluate(trX_c, trY_c)"
   ]
  },
  {
   "cell_type": "code",
   "execution_count": 22,
   "metadata": {
    "collapsed": false
   },
   "outputs": [
    {
     "data": {
      "text/plain": [
       "'loss: 0.6325120856134648'"
      ]
     },
     "execution_count": 22,
     "metadata": {},
     "output_type": "execute_result"
    }
   ],
   "source": [
    "'loss: ' + str(score_c_train[0])"
   ]
  },
  {
   "cell_type": "code",
   "execution_count": 23,
   "metadata": {
    "collapsed": false
   },
   "outputs": [
    {
     "data": {
      "text/plain": [
       "'Accuracy: 0.679169992050867'"
      ]
     },
     "execution_count": 23,
     "metadata": {},
     "output_type": "execute_result"
    }
   ],
   "source": [
    "'Accuracy: ' + str(score_c_train[1])"
   ]
  },
  {
   "cell_type": "markdown",
   "metadata": {},
   "source": [
    "#### 回帰モデル  "
   ]
  },
  {
   "cell_type": "code",
   "execution_count": 24,
   "metadata": {
    "collapsed": true
   },
   "outputs": [],
   "source": [
    "# TODO"
   ]
  },
  {
   "cell_type": "markdown",
   "metadata": {},
   "source": [
    "#### 予測値の保存"
   ]
  },
  {
   "cell_type": "code",
   "execution_count": 25,
   "metadata": {
    "collapsed": false
   },
   "outputs": [
    {
     "name": "stdout",
     "output_type": "stream",
     "text": [
      "\r",
      " 32/299 [==>...........................] - ETA: 0s"
     ]
    }
   ],
   "source": [
    "# 検証データの保存\n",
    "predict_test = {}\n",
    "predict_test['model'] = dnn_c.predict_classes(valX_c)[:, 0]\n",
    "predict_test['act'] = valY_c\n",
    "predict_test['act_diff'] = valY_r\n",
    "predict_test = pd.DataFrame(predict_test)\n",
    "predict_test.index = df_class_test.index\n",
    "predict_test.to_csv('predict_test.csv')"
   ]
  },
  {
   "cell_type": "code",
   "execution_count": 26,
   "metadata": {
    "collapsed": false
   },
   "outputs": [
    {
     "name": "stdout",
     "output_type": "stream",
     "text": [
      "7296/7518 [============================>.] - ETA: 0s"
     ]
    }
   ],
   "source": [
    "# 訓練データの保存\n",
    "predict_train = {}\n",
    "predict_train['model'] = dnn_c.predict_classes(trX_c)[:, 0]\n",
    "predict_train['act'] = trY_c\n",
    "predict_train['act_diff'] = trY_r\n",
    "predict_train = pd.DataFrame(predict_train)\n",
    "predict_train.index = df_class_train.index\n",
    "predict_train.to_csv('predict_train.csv')"
   ]
  }
 ],
 "metadata": {
  "anaconda-cloud": {},
  "kernelspec": {
   "display_name": "Python [conda env:anaconda3-4.2.0]",
   "language": "python",
   "name": "conda-env-anaconda3-4.2.0-py"
  },
  "language_info": {
   "codemirror_mode": {
    "name": "ipython",
    "version": 3
   },
   "file_extension": ".py",
   "mimetype": "text/x-python",
   "name": "python",
   "nbconvert_exporter": "python",
   "pygments_lexer": "ipython3",
   "version": "3.5.2"
  }
 },
 "nbformat": 4,
 "nbformat_minor": 1
}
